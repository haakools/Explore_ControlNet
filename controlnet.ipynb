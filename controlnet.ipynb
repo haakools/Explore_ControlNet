{
  "nbformat": 4,
  "nbformat_minor": 0,
  "metadata": {
    "colab": {
      "provenance": [],
      "authorship_tag": "ABX9TyPtOEWHXEGpgeEUDVvRCYxF",
      "include_colab_link": true
    },
    "kernelspec": {
      "name": "python3",
      "display_name": "Python 3"
    },
    "language_info": {
      "name": "python"
    }
  },
  "cells": [
    {
      "cell_type": "markdown",
      "metadata": {
        "id": "view-in-github",
        "colab_type": "text"
      },
      "source": [
        "<a href=\"https://colab.research.google.com/github/haakools/Explore_ControlNet/blob/main/controlnet.ipynb\" target=\"_parent\"><img src=\"https://colab.research.google.com/assets/colab-badge.svg\" alt=\"Open In Colab\"/></a>"
      ]
    },
    {
      "cell_type": "code",
      "execution_count": 1,
      "metadata": {
        "id": "PkXcIrDnl4cy"
      },
      "outputs": [],
      "source": [
        "# ControlNet with Stable Diffusion 1.5\n",
        "# Link to paper here: https://arxiv.org/abs/2302.05543\n",
        "# Link to github repo: https://github.com/lllyasviel/ControlNet\n",
        "\n"
      ]
    },
    {
      "cell_type": "code",
      "source": [
        "# Get the repo and weights\n",
        "!git clone git@github.com:lllyasviel/ControlNet.git controlnet/\n"
      ],
      "metadata": {
        "id": "dv6RVGjWmCOL"
      },
      "execution_count": null,
      "outputs": []
    }
  ]
}